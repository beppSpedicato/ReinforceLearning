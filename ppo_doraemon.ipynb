{
 "cells": [
  {
   "cell_type": "markdown",
   "id": "f0499319",
   "metadata": {},
   "source": [
    "# Doraemon experiment"
   ]
  },
  {
   "cell_type": "code",
   "execution_count": null,
   "id": "31f8afda",
   "metadata": {},
   "outputs": [
    {
     "name": "stdout",
     "output_type": "stream",
     "text": [
      "PARAMETERS => eps: 0.05, step: 2.0, delta: 0.5, alpha: 0.5\n"
     ]
    },
    {
     "name": "stderr",
     "output_type": "stream",
     "text": [
      "/opt/miniconda3/envs/mldl_m4/lib/python3.8/site-packages/stable_baselines3/common/evaluation.py:67: UserWarning: Evaluation environment is not wrapped with a ``Monitor`` wrapper. This may result in reporting modified episode lengths and rewards, if other wrappers happen to modify these. Consider wrapping environment first with ``Monitor`` wrapper.\n",
      "  warnings.warn(\n"
     ]
    },
    {
     "name": "stdout",
     "output_type": "stream",
     "text": [
      "mean episode length\n",
      "383.6182073903593\n",
      "mean train reward\n",
      "1276.8153005938505\n",
      "mean test reward\n",
      "992.2226002290035\n",
      "test rewards file: doraemon-out/e0.05-a0.5-d0.5-s2.0/test_rewards_CustomHopper-target-v0.txt\n",
      "mean test std\n",
      "221.36658741131922\n"
     ]
    }
   ],
   "source": [
    "from doraemon.doraemon import train_test_ppo_with_doraemon\n",
    "import os\n",
    "\n",
    "n_episodes = 20000\n",
    "mean_timestep = 300\n",
    "target_env = \"CustomHopper-target-v0\"\n",
    "source_env = \"CustomHopper-source-v0\"\n",
    "\n",
    "# optimized for PPO without UDR in source environment\n",
    "optimized_clip_range = 0.19877024509129543\n",
    "optimized_learning_rate = 0.0008\n",
    "optimized_gamma = 0.992\n",
    "seed=20\n",
    "\n",
    "epsilon = 0.05\n",
    "step = 2.0\n",
    "delta = 0.5\n",
    "alpha = 0.5\n",
    "\n",
    "output_folder = f\"doraemon-out/e{epsilon}-a{alpha}-d{delta}-s{step}\"\n",
    "\n",
    "os.mkdir(output_folder)\n",
    "\n",
    "os.mkdir(f\"{output_folder}/seed-{seed}\")\n",
    "\n",
    "print(f\"PARAMETERS => eps: {epsilon}, step: {step}, delta: {delta}, alpha: {alpha}\")\n",
    "train_test_ppo_with_doraemon(\n",
    "\toutput_folder=f\"{output_folder}/seed-{seed}\",\n",
    "\ttrain_env=source_env,\n",
    "\ttest_env=target_env,\n",
    "\tepisodes=n_episodes,\n",
    "\tclip_range=optimized_clip_range,\n",
    "\tlearning_rate=optimized_learning_rate,\n",
    "\tgamma=optimized_gamma,\n",
    "\ttimesteps=mean_timestep,\n",
    "\tprint_std_deviation=True,\n",
    "\tseed=seed,\n",
    " \tepsilon = epsilon,\n",
    "\tstep = step,\n",
    "\tdelta = delta,\n",
    "\talpha = alpha\n",
    ")"
   ]
  },
  {
   "cell_type": "code",
   "execution_count": null,
   "id": "7dd8d949",
   "metadata": {},
   "outputs": [],
   "source": []
  }
 ],
 "metadata": {
  "kernelspec": {
   "display_name": "mldl_m4",
   "language": "python",
   "name": "python3"
  },
  "language_info": {
   "codemirror_mode": {
    "name": "ipython",
    "version": 3
   },
   "file_extension": ".py",
   "mimetype": "text/x-python",
   "name": "python",
   "nbconvert_exporter": "python",
   "pygments_lexer": "ipython3",
   "version": "3.8.20"
  }
 },
 "nbformat": 4,
 "nbformat_minor": 5
}
