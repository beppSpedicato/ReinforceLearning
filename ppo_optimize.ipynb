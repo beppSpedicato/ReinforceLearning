{
 "cells": [
  {
   "cell_type": "markdown",
   "id": "57749452",
   "metadata": {},
   "source": [
    "# PPO Hyperparameters tuning"
   ]
  },
  {
   "cell_type": "code",
   "execution_count": null,
   "id": "caf0ea47",
   "metadata": {},
   "outputs": [
    {
     "name": "stderr",
     "output_type": "stream",
     "text": [
      "[I 2025-05-29 22:13:31,964] A new study created in memory with name: no-name-c590d939-6183-49c7-9683-6fac34239599\n"
     ]
    }
   ],
   "source": [
    "import optuna\n",
    "from stable_baselines3.common.evaluation import evaluate_policy\n",
    "from PPO.ppo_utils import create_agent, train\n",
    "import gym\n",
    "from env.custom_hopper import *\n",
    "\n",
    "n_trials = 50\n",
    "n_episodes = 1000\n",
    "mean_timestep = 100\n",
    "n_eval_episodes = 1000\n",
    "\n",
    "def optimize_call(clip_range, learning_rate, gamma, n_episodes, n_eval_episodes, env: str = \"CustomHopper-source-v0\"):\n",
    "    train_env = gym.make(env)\n",
    "    \n",
    "    agent = create_agent(\n",
    "        clip_range=clip_range, \n",
    "        verbose=0,\n",
    "        learning_rate=learning_rate,\n",
    "        gamma=gamma\n",
    "    )\n",
    "    train(agent, total_timestep=n_episodes)\n",
    "    \n",
    "    mean_reward, _ = evaluate_policy(agent, train_env, n_eval_episodes=n_eval_episodes)\n",
    "    return mean_reward\n",
    "\n",
    "\n",
    "def objective(trial):\n",
    "    clip_range = trial.suggest_float(\"clip_range\", 0.01, 0.3, log=True)\n",
    "    learning_rate = trial.suggest_float(\"learning_rate\", 5e-4, 1e-3, step=1e-4)\n",
    "    gamma = trial.suggest_float(\"gamma\", 0.99, 0.999, step=0.001)\n",
    "    \n",
    "    total_reward = optimize_call(clip_range, learning_rate, gamma, n_episodes*mean_timestep, n_eval_episodes)\n",
    "\n",
    "    return total_reward\n",
    "\n",
    "\n",
    "\n",
    "study = optuna.create_study(direction=\"maximize\")\n",
    "study.optimize(objective, n_trials=n_trials, n_jobs=4)\n",
    "\n",
    "print(\"Best parameters:\", study.best_params)\n",
    "print(\"Best reward:\", study.best_value)"
   ]
  }
 ],
 "metadata": {
  "kernelspec": {
   "display_name": "mldl_m4",
   "language": "python",
   "name": "python3"
  },
  "language_info": {
   "codemirror_mode": {
    "name": "ipython",
    "version": 3
   },
   "file_extension": ".py",
   "mimetype": "text/x-python",
   "name": "python",
   "nbconvert_exporter": "python",
   "pygments_lexer": "ipython3",
   "version": "3.8.20"
  }
 },
 "nbformat": 4,
 "nbformat_minor": 5
}
