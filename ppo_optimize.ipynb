{
 "cells": [
  {
   "cell_type": "markdown",
   "id": "57749452",
   "metadata": {},
   "source": [
    "# PPO Hyperparameters tuning"
   ]
  },
  {
   "cell_type": "code",
   "execution_count": 2,
   "id": "caf0ea47",
   "metadata": {},
   "outputs": [
    {
     "name": "stderr",
     "output_type": "stream",
     "text": [
      "[I 2025-05-29 22:13:31,964] A new study created in memory with name: no-name-c590d939-6183-49c7-9683-6fac34239599\n",
      "/opt/miniconda3/envs/mldl_m4/lib/python3.8/site-packages/stable_baselines3/common/evaluation.py:67: UserWarning: Evaluation environment is not wrapped with a ``Monitor`` wrapper. This may result in reporting modified episode lengths and rewards, if other wrappers happen to modify these. Consider wrapping environment first with ``Monitor`` wrapper.\n",
      "  warnings.warn(\n",
      "[I 2025-05-29 22:22:13,788] Trial 2 finished with value: 335.87948635315894 and parameters: {'clip_range': 0.04061024305777686, 'learning_rate': 0.0005, 'gamma': 0.995}. Best is trial 2 with value: 335.87948635315894.\n",
      "[I 2025-05-29 22:22:45,944] Trial 3 finished with value: 498.42115930950644 and parameters: {'clip_range': 0.2976021480198951, 'learning_rate': 0.0007, 'gamma': 0.994}. Best is trial 3 with value: 498.42115930950644.\n",
      "[I 2025-05-29 22:24:12,527] Trial 0 finished with value: 458.86427682989836 and parameters: {'clip_range': 0.06076594587760699, 'learning_rate': 0.001, 'gamma': 0.998}. Best is trial 3 with value: 498.42115930950644.\n",
      "[I 2025-05-29 22:25:14,816] Trial 1 finished with value: 534.3012834342718 and parameters: {'clip_range': 0.06355317008283, 'learning_rate': 0.0008, 'gamma': 0.999}. Best is trial 1 with value: 534.3012834342718.\n",
      "[I 2025-05-29 22:30:29,214] Trial 4 finished with value: 240.3550473770499 and parameters: {'clip_range': 0.015337827462988726, 'learning_rate': 0.0006000000000000001, 'gamma': 0.99}. Best is trial 1 with value: 534.3012834342718.\n",
      "[I 2025-05-29 22:30:57,957] Trial 5 finished with value: 242.2170738838315 and parameters: {'clip_range': 0.014414168490229676, 'learning_rate': 0.001, 'gamma': 0.999}. Best is trial 1 with value: 534.3012834342718.\n",
      "[I 2025-05-29 22:33:05,649] Trial 6 finished with value: 460.4024794574976 and parameters: {'clip_range': 0.10421065050489557, 'learning_rate': 0.0009, 'gamma': 0.993}. Best is trial 1 with value: 534.3012834342718.\n",
      "[I 2025-05-29 22:37:40,399] Trial 7 finished with value: 701.0714703304768 and parameters: {'clip_range': 0.09535845580342034, 'learning_rate': 0.0009, 'gamma': 0.998}. Best is trial 7 with value: 701.0714703304768.\n",
      "[I 2025-05-29 22:40:27,163] Trial 9 finished with value: 257.39803774124385 and parameters: {'clip_range': 0.019291900521103994, 'learning_rate': 0.0005, 'gamma': 0.997}. Best is trial 7 with value: 701.0714703304768.\n",
      "[I 2025-05-29 22:40:37,197] Trial 8 finished with value: 427.9659916628599 and parameters: {'clip_range': 0.05776821340382625, 'learning_rate': 0.0007, 'gamma': 0.998}. Best is trial 7 with value: 701.0714703304768.\n",
      "[I 2025-05-29 22:42:19,741] Trial 10 finished with value: 235.2409697344303 and parameters: {'clip_range': 0.019216992407176246, 'learning_rate': 0.0008, 'gamma': 0.994}. Best is trial 7 with value: 701.0714703304768.\n",
      "[I 2025-05-29 22:46:36,107] Trial 11 finished with value: 313.9989174653888 and parameters: {'clip_range': 0.025568104870343587, 'learning_rate': 0.0006000000000000001, 'gamma': 0.999}. Best is trial 7 with value: 701.0714703304768.\n",
      "[I 2025-05-29 22:49:43,059] Trial 12 finished with value: 383.7690874583721 and parameters: {'clip_range': 0.040763272692815, 'learning_rate': 0.0007, 'gamma': 0.996}. Best is trial 7 with value: 701.0714703304768.\n",
      "[I 2025-05-29 22:56:02,513] Trial 13 finished with value: 1118.262623958111 and parameters: {'clip_range': 0.2104297759937371, 'learning_rate': 0.0009, 'gamma': 0.996}. Best is trial 13 with value: 1118.262623958111.\n",
      "[I 2025-05-29 22:56:44,822] Trial 14 finished with value: 928.3610429242849 and parameters: {'clip_range': 0.13268403928670175, 'learning_rate': 0.0008, 'gamma': 0.996}. Best is trial 13 with value: 1118.262623958111.\n",
      "[I 2025-05-29 22:57:17,127] Trial 15 finished with value: 289.9338983348608 and parameters: {'clip_range': 0.15091116140692387, 'learning_rate': 0.0009, 'gamma': 0.996}. Best is trial 13 with value: 1118.262623958111.\n",
      "[I 2025-05-29 23:05:37,775] Trial 16 finished with value: 1042.1481015116572 and parameters: {'clip_range': 0.13360118141260807, 'learning_rate': 0.0009, 'gamma': 0.997}. Best is trial 13 with value: 1118.262623958111.\n",
      "[I 2025-05-29 23:12:26,922] Trial 17 finished with value: 1057.3160052005053 and parameters: {'clip_range': 0.19007363403893793, 'learning_rate': 0.0009, 'gamma': 0.996}. Best is trial 13 with value: 1118.262623958111.\n",
      "[I 2025-05-29 23:13:08,084] Trial 18 finished with value: 1480.0916335685254 and parameters: {'clip_range': 0.2631886204220598, 'learning_rate': 0.0009, 'gamma': 0.992}. Best is trial 18 with value: 1480.0916335685254.\n",
      "[I 2025-05-29 23:13:39,717] Trial 19 finished with value: 1260.932604411602 and parameters: {'clip_range': 0.24446002278525555, 'learning_rate': 0.0008, 'gamma': 0.992}. Best is trial 18 with value: 1480.0916335685254.\n",
      "[I 2025-05-29 23:22:11,093] Trial 20 finished with value: 1385.142223993063 and parameters: {'clip_range': 0.26541093515816205, 'learning_rate': 0.001, 'gamma': 0.991}. Best is trial 18 with value: 1480.0916335685254.\n",
      "[I 2025-05-29 23:25:56,721] Trial 23 finished with value: 729.4213379514217 and parameters: {'clip_range': 0.29559498913002147, 'learning_rate': 0.001, 'gamma': 0.991}. Best is trial 18 with value: 1480.0916335685254.\n",
      "[I 2025-05-29 23:29:20,727] Trial 21 finished with value: 1240.4373533494472 and parameters: {'clip_range': 0.2864798062052236, 'learning_rate': 0.001, 'gamma': 0.992}. Best is trial 18 with value: 1480.0916335685254.\n",
      "[I 2025-05-29 23:29:56,891] Trial 22 finished with value: 1365.9233168567418 and parameters: {'clip_range': 0.27911883477102983, 'learning_rate': 0.001, 'gamma': 0.992}. Best is trial 18 with value: 1480.0916335685254.\n",
      "[I 2025-05-29 23:39:37,090] Trial 24 finished with value: 1280.8976827868223 and parameters: {'clip_range': 0.2994972838435794, 'learning_rate': 0.001, 'gamma': 0.991}. Best is trial 18 with value: 1480.0916335685254.\n",
      "[I 2025-05-29 23:43:13,745] Trial 25 finished with value: 1393.290501585424 and parameters: {'clip_range': 0.21541800228608904, 'learning_rate': 0.001, 'gamma': 0.992}. Best is trial 18 with value: 1480.0916335685254.\n",
      "[I 2025-05-29 23:46:34,635] Trial 26 finished with value: 1542.6249746930598 and parameters: {'clip_range': 0.19877024509129543, 'learning_rate': 0.0008, 'gamma': 0.992}. Best is trial 26 with value: 1542.6249746930598.\n",
      "[I 2025-05-29 23:47:19,551] Trial 27 finished with value: 1239.3426841344833 and parameters: {'clip_range': 0.1778921289103431, 'learning_rate': 0.001, 'gamma': 0.99}. Best is trial 26 with value: 1542.6249746930598.\n",
      "[I 2025-05-29 23:56:56,266] Trial 28 finished with value: 1264.003784792185 and parameters: {'clip_range': 0.1854722040211509, 'learning_rate': 0.001, 'gamma': 0.99}. Best is trial 26 with value: 1542.6249746930598.\n",
      "[I 2025-05-29 23:58:33,216] Trial 30 finished with value: 735.9535686837435 and parameters: {'clip_range': 0.1705246393144762, 'learning_rate': 0.0008, 'gamma': 0.993}. Best is trial 26 with value: 1542.6249746930598.\n",
      "[I 2025-05-30 00:00:02,086] Trial 29 finished with value: 1228.5927285977007 and parameters: {'clip_range': 0.17921195404163542, 'learning_rate': 0.001, 'gamma': 0.99}. Best is trial 26 with value: 1542.6249746930598.\n",
      "[I 2025-05-30 00:03:31,445] Trial 31 finished with value: 1064.5441610828043 and parameters: {'clip_range': 0.08925939857744919, 'learning_rate': 0.0008, 'gamma': 0.993}. Best is trial 26 with value: 1542.6249746930598.\n",
      "[I 2025-05-30 00:13:55,537] Trial 32 finished with value: 1082.2000545296669 and parameters: {'clip_range': 0.09657016798563411, 'learning_rate': 0.0008, 'gamma': 0.993}. Best is trial 26 with value: 1542.6249746930598.\n",
      "[I 2025-05-30 00:14:53,825] Trial 33 finished with value: 1385.018407517314 and parameters: {'clip_range': 0.08688396584028062, 'learning_rate': 0.0009, 'gamma': 0.993}. Best is trial 26 with value: 1542.6249746930598.\n",
      "[I 2025-05-30 00:16:34,607] Trial 35 finished with value: 697.5777162088156 and parameters: {'clip_range': 0.21665610267026414, 'learning_rate': 0.0009, 'gamma': 0.991}. Best is trial 26 with value: 1542.6249746930598.\n",
      "[I 2025-05-30 00:17:07,931] Trial 34 finished with value: 1262.5864266884923 and parameters: {'clip_range': 0.10489765776282972, 'learning_rate': 0.0009, 'gamma': 0.991}. Best is trial 26 with value: 1542.6249746930598.\n",
      "[I 2025-05-30 00:25:39,497] Trial 37 finished with value: 512.0789674597978 and parameters: {'clip_range': 0.20783295390242362, 'learning_rate': 0.0009, 'gamma': 0.991}. Best is trial 26 with value: 1542.6249746930598.\n",
      "[I 2025-05-30 00:29:39,322] Trial 36 finished with value: 1221.1878837643862 and parameters: {'clip_range': 0.2257487706704544, 'learning_rate': 0.0009, 'gamma': 0.991}. Best is trial 26 with value: 1542.6249746930598.\n",
      "[I 2025-05-30 00:32:03,048] Trial 38 finished with value: 1211.6657110376955 and parameters: {'clip_range': 0.22787370614826183, 'learning_rate': 0.0009, 'gamma': 0.992}. Best is trial 26 with value: 1542.6249746930598.\n",
      "[I 2025-05-30 00:33:50,359] Trial 39 finished with value: 1270.4468458464146 and parameters: {'clip_range': 0.23893641699873597, 'learning_rate': 0.001, 'gamma': 0.992}. Best is trial 26 with value: 1542.6249746930598.\n",
      "[I 2025-05-30 00:41:53,579] Trial 42 finished with value: 263.9754108999372 and parameters: {'clip_range': 0.010978822995823943, 'learning_rate': 0.0007, 'gamma': 0.994}. Best is trial 26 with value: 1542.6249746930598.\n",
      "[I 2025-05-30 00:42:19,436] Trial 40 finished with value: 1467.140494232297 and parameters: {'clip_range': 0.24557576235269124, 'learning_rate': 0.001, 'gamma': 0.992}. Best is trial 26 with value: 1542.6249746930598.\n",
      "[I 2025-05-30 00:46:23,497] Trial 41 finished with value: 1146.576255670905 and parameters: {'clip_range': 0.13778196367004547, 'learning_rate': 0.001, 'gamma': 0.994}. Best is trial 26 with value: 1542.6249746930598.\n",
      "[I 2025-05-30 00:50:11,071] Trial 43 finished with value: 1030.89473358953 and parameters: {'clip_range': 0.1244636875987216, 'learning_rate': 0.0007, 'gamma': 0.994}. Best is trial 26 with value: 1542.6249746930598.\n",
      "[I 2025-05-30 00:52:33,208] Trial 44 finished with value: 413.11848476481435 and parameters: {'clip_range': 0.0686725000277714, 'learning_rate': 0.001, 'gamma': 0.993}. Best is trial 26 with value: 1542.6249746930598.\n",
      "[I 2025-05-30 00:56:02,456] Trial 46 finished with value: 336.9289892755747 and parameters: {'clip_range': 0.07142169337122632, 'learning_rate': 0.001, 'gamma': 0.992}. Best is trial 26 with value: 1542.6249746930598.\n",
      "[I 2025-05-30 00:56:51,252] Trial 45 finished with value: 986.4169047083259 and parameters: {'clip_range': 0.14084412961822967, 'learning_rate': 0.001, 'gamma': 0.992}. Best is trial 26 with value: 1542.6249746930598.\n",
      "[I 2025-05-30 01:03:35,787] Trial 47 finished with value: 1488.6543491572143 and parameters: {'clip_range': 0.15910194989540882, 'learning_rate': 0.001, 'gamma': 0.992}. Best is trial 26 with value: 1542.6249746930598.\n",
      "[I 2025-05-30 01:04:09,072] Trial 49 finished with value: 360.08709701657295 and parameters: {'clip_range': 0.044967545704566445, 'learning_rate': 0.001, 'gamma': 0.995}. Best is trial 26 with value: 1542.6249746930598.\n",
      "[I 2025-05-30 01:04:28,201] Trial 48 finished with value: 1166.2258620363473 and parameters: {'clip_range': 0.2587405209679189, 'learning_rate': 0.001, 'gamma': 0.992}. Best is trial 26 with value: 1542.6249746930598.\n"
     ]
    },
    {
     "name": "stdout",
     "output_type": "stream",
     "text": [
      "Best parameters: {'clip_range': 0.19877024509129543, 'learning_rate': 0.0008, 'gamma': 0.992}\n",
      "Best reward: 1542.6249746930598\n"
     ]
    }
   ],
   "source": [
    "import optuna\n",
    "from stable_baselines3.common.evaluation import evaluate_policy\n",
    "from PPO.ppo_utils import create_agent, train\n",
    "import gym\n",
    "from env.custom_hopper import *\n",
    "\n",
    "n_trials = 50\n",
    "n_episodes = 1000\n",
    "mean_timestep = 100\n",
    "n_eval_episodes = 1000\n",
    "\n",
    "def optimize_call(clip_range, learning_rate, gamma, n_episodes, n_eval_episodes, env: str = \"CustomHopper-source-v0\"):\n",
    "    train_env = gym.make(env)\n",
    "    \n",
    "    agent = create_agent(\n",
    "        clip_range=clip_range, \n",
    "        verbose=0,\n",
    "        learning_rate=learning_rate,\n",
    "        gamma=gamma\n",
    "    )\n",
    "    train(agent, total_timestep=n_episodes)\n",
    "    \n",
    "    mean_reward, _ = evaluate_policy(agent, train_env, n_eval_episodes=n_eval_episodes)\n",
    "    return mean_reward\n",
    "\n",
    "\n",
    "def objective(trial):\n",
    "    clip_range = trial.suggest_float(\"clip_range\", 0.01, 0.3, log=True)\n",
    "    learning_rate = trial.suggest_float(\"learning_rate\", 5e-4, 1e-3, step=1e-4)\n",
    "    gamma = trial.suggest_float(\"gamma\", 0.99, 0.999, step=0.001)\n",
    "    \n",
    "    total_reward = optimize_call(clip_range, learning_rate, gamma, n_episodes*mean_timestep, n_eval_episodes)\n",
    "\n",
    "    return total_reward\n",
    "\n",
    "\n",
    "\n",
    "study = optuna.create_study(direction=\"maximize\")\n",
    "study.optimize(objective, n_trials=n_trials, n_jobs=4)\n",
    "\n",
    "print(\"Best parameters:\", study.best_params)\n",
    "print(\"Best reward:\", study.best_value)"
   ]
  }
 ],
 "metadata": {
  "kernelspec": {
   "display_name": "mldl_m4",
   "language": "python",
   "name": "python3"
  },
  "language_info": {
   "codemirror_mode": {
    "name": "ipython",
    "version": 3
   },
   "file_extension": ".py",
   "mimetype": "text/x-python",
   "name": "python",
   "nbconvert_exporter": "python",
   "pygments_lexer": "ipython3",
   "version": "3.8.20"
  }
 },
 "nbformat": 4,
 "nbformat_minor": 5
}
